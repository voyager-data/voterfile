{
 "cells": [
  {
   "cell_type": "code",
   "execution_count": null,
   "metadata": {},
   "outputs": [],
   "source": [
    "DATADIR = \"~/repos/voters/data/2019/\"\n",
    "\n",
    "FN_VOTERS, FN_CONTACT, FN_SURVEY, FN_CODES = (DATADIR + fn for fn in (\"voters.tsv\", \"contacts.tsv\", \"survey.tsv\", \"codes.tsv\"))\n",
    "\n",
    "import pandas as pd\n",
    "import numpy as np\n",
    "\n",
    "from sklearn.model_selection import train_test_split\n",
    "from sklearn.decomposition import PCA \n",
    "from sklearn.pipeline import make_pipeline\n",
    "from sklearn.preprocessing import StandardScaler\n",
    "from sklearn.svm import SVC\n",
    "from sklearn.naive_bayes import CategoricalNB\n",
    "\n",
    "from sklearn_pandas import DataFrameMapper\n",
    "\n",
    "from voters.ingest import voters_dtypes, contact_dtypes, survey_dtypes, code_dtypes\n"
   ]
  },
  {
   "cell_type": "code",
   "execution_count": null,
   "metadata": {},
   "outputs": [],
   "source": [
    "# read main voter csv\n",
    "df = pd.read_csv(FN_VOTERS, sep=\"\\t\", dtype=voters_dtypes, parse_dates=['DateReg'], index_col=\"vanid\")\n",
    "\n",
    "# split apart the big csv\n",
    "df_demo = pd.concat([df.pop('Age'), df.pop('Sex'), df.pop('Party'), df.pop('PollingLocation'), df.pop('DateReg')], axis=1)\n",
    "\n",
    "df_geo = pd.concat([df.pop('Address'), df.pop('Zip5'), df.pop('Zip4')], axis=1)\n",
    "\n",
    "df_history = pd.concat([df.pop('General20'), df.pop('General18'), df.pop('General16'), df.pop('General14'),\n",
    "    df.pop('Municipal19'), df.pop('Municipal17'), df.pop('Municipal15'),\n",
    "    df.pop('PresidentialPrimary16'), df.pop('Primary18'), \n",
    "    ], axis=1)\n",
    "\n",
    "df_scores = pd.concat([df.pop('CivPart18'), df.pop('CivRace'), df.pop('CivTnt'), df.pop('Tnt'), df.pop('s18TSMEth'), df.pop('s18TSMMdGnTNT'), df.pop('s18TSMNatPart'), df.pop('s18TSMNPYPT'), df.pop('DLCCHDSup'), df.pop('DLCCSDSup'), df.pop('DLCCTurnout'), df.pop('EconomyPersuasion'), df.pop('GunViolencePreventio'), df.pop('HealthcarePersuasion'), df.pop('CivPart20'), df.pop('TrumpPersuasion'), df.pop('YEARXXScoreSName'), df.pop('DemPartySup'), df.pop('DemPartySup2'), df.pop('NatTO'), df.pop('PrChc'), df.pop('s20CivKidsinHH'), df.pop('s20CivMarriage'), df.pop('CivSpan'), df.pop('s20VolProp'), df.pop('TrumpDisapprov')], axis=1)\n",
    "\n",
    "# load contact history\n",
    "df_contact = pd.read_csv(FN_CONTACT, sep=\"\\t\", dtype=contact_dtypes, parse_dates=['DateCanvassed'], index_col=\"vanid\")\n",
    "\n",
    "# load survey responses\n",
    "df_survey = pd.read_csv(FN_SURVEY, sep=\"\\t\", dtype=survey_dtypes, parse_dates=['DateCanvassed'], index_col=\"vanid\")\n",
    "\n",
    "df_codes = pd.read_csv(FN_CODES, sep=\"\\t\", dtype=code_dtypes, parse_dates=['DateCreated', 'DateCanvassed'], index_col=\"vanid\")\n"
   ]
  },
  {
   "cell_type": "code",
   "execution_count": null,
   "metadata": {},
   "outputs": [],
   "source": [
    "# do some further cleansing\n",
    "\n",
    "# get the data ready for sklearn\n",
    "# DataFrameMapper()\n",
    "\n"
   ]
  },
  {
   "cell_type": "code",
   "execution_count": null,
   "metadata": {},
   "outputs": [],
   "source": [
    "clf = CategoricalNB()\n",
    "# clf.fit(X, y)"
   ]
  }
 ],
 "metadata": {
  "interpreter": {
   "hash": "4b51b7cd138033e03dfac2bfeb8f173103a7cc39cc4aaba517f339a76d033a2b"
  },
  "kernelspec": {
   "display_name": "Python 3.9.7 64-bit ('voters': conda)",
   "language": "python",
   "name": "python3"
  },
  "language_info": {
   "codemirror_mode": {
    "name": "ipython",
    "version": 3
   },
   "file_extension": ".py",
   "mimetype": "text/x-python",
   "name": "python",
   "nbconvert_exporter": "python",
   "pygments_lexer": "ipython3",
   "version": "3.9.7"
  },
  "orig_nbformat": 4
 },
 "nbformat": 4,
 "nbformat_minor": 2
}
